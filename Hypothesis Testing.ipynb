{
 "cells": [
  {
   "cell_type": "markdown",
   "id": "ce932acf",
   "metadata": {},
   "source": [
    "### 1.Question\n",
    "Suppose a child psychologist says that the average time that working mothers spend talking to their children is at-least 11 minutes per day. You want to test You conduct a random sample of 1000 working mothers and find they spend an average of 11.5 minutes per day talking with their children. Assume prior research suggests the population standard deviation is 2.3 minutes. Conduct test with a level of significance of alpha=0.05"
   ]
  },
  {
   "cell_type": "markdown",
   "id": "786e6c86",
   "metadata": {},
   "source": [
    "### Defining Null and alternate hypotheses"
   ]
  },
  {
   "cell_type": "markdown",
   "id": "edf23bed",
   "metadata": {},
   "source": [
    "#Null hypothesis => The average time that working mothers spend talking to their children is at-least 11 minutes per day. Alternate hypothesis => The average time that working mothers spend talking to their children is less than 11 minutes per day."
   ]
  },
  {
   "cell_type": "markdown",
   "id": "d1f9f82f",
   "metadata": {},
   "source": [
    "### Choose Significance Level"
   ]
  },
  {
   "cell_type": "markdown",
   "id": "63aadbd3",
   "metadata": {},
   "source": [
    "Its already given that level of significance of alpha=0.05"
   ]
  },
  {
   "cell_type": "markdown",
   "id": "5932874f",
   "metadata": {},
   "source": [
    "### Calculating the test statistic"
   ]
  },
  {
   "cell_type": "code",
   "execution_count": 10,
   "id": "b05e66c7",
   "metadata": {},
   "outputs": [
    {
     "data": {
      "text/plain": [
       "0.2173913043478261"
      ]
     },
     "execution_count": 10,
     "metadata": {},
     "output_type": "execute_result"
    }
   ],
   "source": [
    "z=(11.5-11)/2.3  # z=(mean[we got]-mean[we are assuming])/std\n",
    "z"
   ]
  },
  {
   "cell_type": "markdown",
   "id": "4ee5fa30",
   "metadata": {},
   "source": [
    "### Concluding — rejecting or not rejecting your null hypothesis"
   ]
  },
  {
   "cell_type": "markdown",
   "id": "00c21cb5",
   "metadata": {},
   "source": [
    "\n",
    "Now we can conclude with this result our null hypothesis is acceptable. That means there is enough evidence to support the claim that \" The average time that working mothers spend talking to their children is at-least 11 minutes per day\"."
   ]
  },
  {
   "cell_type": "markdown",
   "id": "a7a2fb87",
   "metadata": {},
   "source": [
    "### 2.Question\n",
    "A coffee shop claims that their average wait time for customers is less than 5 minutes. To test this claim, a sample of 40 customers is taken, and their wait times are recorded. The sample mean wait time is found to be 4.6 minutes with a standard deviation of 0.8 minutes. Perform a hypothesis test at a significance level of 0.05 and determine whether there is enough evidence to support the coffee shop's claim. Perform the hypothesis testing using correct test statistics and appropriate critical value"
   ]
  },
  {
   "cell_type": "markdown",
   "id": "2b94aab1",
   "metadata": {},
   "source": [
    "### Null and Alternate Hypothesis\n",
    "Null hypothesis => The average wait time for customers is less than 5 minutes. Alternate hypothesis => The average wait time for customers is greater than 5 minutes."
   ]
  },
  {
   "cell_type": "markdown",
   "id": "0ba7d6d8",
   "metadata": {},
   "source": [
    "### Choose Significance Level\n",
    "Its already given that level of significance of alpha=0.05"
   ]
  },
  {
   "cell_type": "markdown",
   "id": "1434b9cd",
   "metadata": {},
   "source": [
    "### Identifying a statistical test\n",
    "From the given details we know the sample size is small(40) and the population standard deviation is not known. So here we can use t test."
   ]
  },
  {
   "cell_type": "markdown",
   "id": "37dfc29c",
   "metadata": {},
   "source": [
    "### Calculating the test statistic"
   ]
  },
  {
   "cell_type": "code",
   "execution_count": 11,
   "id": "7588395b",
   "metadata": {},
   "outputs": [
    {
     "data": {
      "text/plain": [
       "-3.162277660168382"
      ]
     },
     "execution_count": 11,
     "metadata": {},
     "output_type": "execute_result"
    }
   ],
   "source": [
    "t=(4.6-5)/(0.8/(40**0.5))\n",
    "t"
   ]
  },
  {
   "cell_type": "markdown",
   "id": "072425c5",
   "metadata": {},
   "source": [
    "### Comparing it with the level of significance\n",
    "critical value is 1.6849(right-tailed test). Test statistic is less than critical value so our null hypothesis is in the acceptence region."
   ]
  },
  {
   "cell_type": "markdown",
   "id": "f9b6378d",
   "metadata": {},
   "source": [
    "### Concluding\n",
    "Now there is enough evidence to support the claim that \"The average wait time for customers is less than 5 minutes\" ."
   ]
  },
  {
   "cell_type": "code",
   "execution_count": null,
   "id": "3721d8ae",
   "metadata": {},
   "outputs": [],
   "source": []
  }
 ],
 "metadata": {
  "kernelspec": {
   "display_name": "Python 3 (ipykernel)",
   "language": "python",
   "name": "python3"
  },
  "language_info": {
   "codemirror_mode": {
    "name": "ipython",
    "version": 3
   },
   "file_extension": ".py",
   "mimetype": "text/x-python",
   "name": "python",
   "nbconvert_exporter": "python",
   "pygments_lexer": "ipython3",
   "version": "3.11.3"
  }
 },
 "nbformat": 4,
 "nbformat_minor": 5
}
